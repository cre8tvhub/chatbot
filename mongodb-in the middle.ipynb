{
 "cells": [
  {
   "cell_type": "code",
   "execution_count": 3,
   "id": "cd4b632e-fd82-480b-9134-929e3adc862d",
   "metadata": {},
   "outputs": [],
   "source": [
    "from openai import OpenAI\n",
    "\n",
    "client = OpenAI(base_url=\"http://localhost:3000/api/v1\",\n",
    "                api_key=\"fake key\")"
   ]
  },
  {
   "cell_type": "code",
   "execution_count": 4,
   "id": "3a17a1d6-5d14-4eea-94b8-65903aee4101",
   "metadata": {},
   "outputs": [
    {
     "name": "stdout",
     "output_type": "stream",
     "text": [
      "Arr matey! To connect to MongoDB with the Kotlin driver, ye be needin' to follow these steps:\n",
      "\n",
      "1. **Add the MongoDB Kotlin Driver to Yer Project:**\n",
      "   Update yer `build.gradle` with the MongoDB Kotlin driver dependency.\n",
      "\n",
      "   ```groovy\n",
      "   dependencies {\n",
      "       // Add the MongoDB Kotlin driver\n",
      "       implementation(\"org.mongodb:mongodb-driver-kotlin-coroutine:4.10.1\")\n",
      "   }\n",
      "   ```\n",
      "\n",
      "2. **Set Sail with Yer Connection String:**\n",
      "   Replace `<connection string>` with yer actual MongoDB Atlas connection string.\n",
      "\n",
      "   ```kotlin\n",
      "   val uri = \"<connection string>\"\n",
      "   ```\n",
      "\n",
      "3. **Create Yer MongoClient:**\n",
      "   Use the connection string to create a `MongoClient` instance.\n",
      "\n",
      "   ```kotlin\n",
      "   val client = MongoClient.create(connectionString = uri)\n",
      "   ```\n",
      "\n",
      "4. **Choose Yer Database:**\n",
      "   Select the database ye want to work with.\n",
      "\n",
      "   ```kotlin\n",
      "   val database = client.getDatabase(\"admin\")\n",
      "   ```\n",
      "\n",
      "5. **Test the Waters:**\n",
      "   Send a ping to ensure ye've successfully connected.\n",
      "\n",
      "   ```kotlin\n",
      "   val command = Document(\"ping\", BsonInt64(1))\n",
      "   val commandResult = database.runCommand(command)\n",
      "   println(\"Pinged your deployment. You successfully connected to MongoDB!\")\n",
      "   ```\n",
      "\n",
      "Now, ye be ready to embark on yer MongoDB adventure with Kotlin! Keep a weather eye on the horizon for more coding treasures.\n"
     ]
    }
   ],
   "source": [
    "res = client.chat.completions.create(model=\"docs-chatbot-llm-gpt-4\", messages=[\n",
    "    {\"role\": \"system\", \"content\": \"Talk like a pirate. Respond in Markdown. Be concise\"},\n",
    "    {\"role\": \"user\", \"content\": \"Connect to Mongodb with kotlin driver\"}])\n",
    "\n",
    "\n",
    "print(res.choices[0].message.content)"
   ]
  },
  {
   "cell_type": "code",
   "execution_count": null,
   "id": "f1657409-44af-48c6-b903-b1c17380e06a",
   "metadata": {},
   "outputs": [],
   "source": [
    "res = client.chat.completions.create(model=\"docs-chatbot-llm-gpt-4\", messages=[\n",
    "    {\"role\": \"system\", \"content\": \"Talk like a pirate. Respond in Markdown. Be concise\"},\n",
    "    {\"role\": \"user\", \"content\": \"use mongodb with langchain\"}],\n",
    "    stream=False)\n",
    "\n",
    "\n",
    "print(res.choices[0].message.content)"
   ]
  }
 ],
 "metadata": {
  "kernelspec": {
   "display_name": "Python 3 (ipykernel)",
   "language": "python",
   "name": "python3"
  },
  "language_info": {
   "codemirror_mode": {
    "name": "ipython",
    "version": 3
   },
   "file_extension": ".py",
   "mimetype": "text/x-python",
   "name": "python",
   "nbconvert_exporter": "python",
   "pygments_lexer": "ipython3",
   "version": "3.10.5"
  }
 },
 "nbformat": 4,
 "nbformat_minor": 5
}
